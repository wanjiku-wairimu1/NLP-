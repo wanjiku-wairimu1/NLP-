{
  "nbformat": 4,
  "nbformat_minor": 0,
  "metadata": {
    "colab": {
      "provenance": [],
      "authorship_tag": "ABX9TyOtpwP4uxq3ijEfqMZe7aHm",
      "include_colab_link": true
    },
    "kernelspec": {
      "name": "python3",
      "display_name": "Python 3"
    },
    "language_info": {
      "name": "python"
    }
  },
  "cells": [
    {
      "cell_type": "markdown",
      "metadata": {
        "id": "view-in-github",
        "colab_type": "text"
      },
      "source": [
        "<a href=\"https://colab.research.google.com/github/wanjiku-wairimu1/Social-media-analysis-helper-API-/blob/main/socialmediaanalysishelperMe.ipynb\" target=\"_parent\"><img src=\"https://colab.research.google.com/assets/colab-badge.svg\" alt=\"Open In Colab\"/></a>"
      ]
    },
    {
      "cell_type": "code",
      "execution_count": null,
      "metadata": {
        "id": "LBNccU8USiCZ"
      },
      "outputs": [],
      "source": [
        "#!git clone https://github.com/SimPPL/SocialMediaAnalysis.git\n"
      ]
    },
    {
      "cell_type": "code",
      "source": [
        "!cd SocialMediaAnalysis && git pull https://github.com/SimPPL/SocialMediaAnalysis.git\n"
      ],
      "metadata": {
        "colab": {
          "base_uri": "https://localhost:8080/"
        },
        "id": "1OCub37vTvu0",
        "outputId": "20d10dd3-60ba-4e63-9943-4445b8e45fb7"
      },
      "execution_count": null,
      "outputs": [
        {
          "output_type": "stream",
          "name": "stdout",
          "text": [
            "From https://github.com/SimPPL/SocialMediaAnalysis\n",
            " * branch            HEAD       -> FETCH_HEAD\n",
            "Already up to date.\n"
          ]
        }
      ]
    },
    {
      "cell_type": "code",
      "source": [
        "!pip install tweepy pandas numpy plotly tqdm"
      ],
      "metadata": {
        "colab": {
          "base_uri": "https://localhost:8080/"
        },
        "id": "1X5fsRkebodW",
        "outputId": "0be738c7-61b9-41f5-c46f-352553ef88c5"
      },
      "execution_count": null,
      "outputs": [
        {
          "output_type": "stream",
          "name": "stdout",
          "text": [
            "Looking in indexes: https://pypi.org/simple, https://us-python.pkg.dev/colab-wheels/public/simple/\n",
            "Requirement already satisfied: tweepy in /usr/local/lib/python3.8/dist-packages (4.12.1)\n",
            "Requirement already satisfied: pandas in /usr/local/lib/python3.8/dist-packages (1.5.2)\n",
            "Requirement already satisfied: numpy in /usr/local/lib/python3.8/dist-packages (1.23.5)\n",
            "Requirement already satisfied: plotly in /usr/local/lib/python3.8/dist-packages (5.11.0)\n",
            "Requirement already satisfied: tqdm in /usr/local/lib/python3.8/dist-packages (4.64.1)\n",
            "Requirement already satisfied: requests-oauthlib<2,>=1.2.0 in /usr/local/lib/python3.8/dist-packages (from tweepy) (1.3.1)\n",
            "Requirement already satisfied: requests<3,>=2.27.0 in /usr/local/lib/python3.8/dist-packages (from tweepy) (2.28.1)\n",
            "Requirement already satisfied: oauthlib<4,>=3.2.0 in /usr/local/lib/python3.8/dist-packages (from tweepy) (3.2.2)\n",
            "Requirement already satisfied: idna<4,>=2.5 in /usr/local/lib/python3.8/dist-packages (from requests<3,>=2.27.0->tweepy) (2.10)\n",
            "Requirement already satisfied: certifi>=2017.4.17 in /usr/local/lib/python3.8/dist-packages (from requests<3,>=2.27.0->tweepy) (2022.9.24)\n",
            "Requirement already satisfied: charset-normalizer<3,>=2 in /usr/local/lib/python3.8/dist-packages (from requests<3,>=2.27.0->tweepy) (2.1.1)\n",
            "Requirement already satisfied: urllib3<1.27,>=1.21.1 in /usr/local/lib/python3.8/dist-packages (from requests<3,>=2.27.0->tweepy) (1.24.3)\n",
            "Requirement already satisfied: pytz>=2020.1 in /usr/local/lib/python3.8/dist-packages (from pandas) (2022.6)\n",
            "Requirement already satisfied: python-dateutil>=2.8.1 in /usr/local/lib/python3.8/dist-packages (from pandas) (2.8.2)\n",
            "Requirement already satisfied: six>=1.5 in /usr/local/lib/python3.8/dist-packages (from python-dateutil>=2.8.1->pandas) (1.15.0)\n",
            "Requirement already satisfied: tenacity>=6.2.0 in /usr/local/lib/python3.8/dist-packages (from plotly) (8.1.0)\n"
          ]
        }
      ]
    },
    {
      "cell_type": "code",
      "source": [
        "# the bad way of doing things\n",
        "api_key = 'IrRs1WGXAsUoUd7n7rN2Pyk0o'\n",
        "api_key_secret ='A6YmfBFqXe3DseoBOCqU1MVuWJwuALkpAcZvgifxX3zc9UZQ9T' \n",
        "bearer_token ='AAAAAAAAAAAAAAAAAAAAALzHjwEAAAAA9qnOaHB8cEybkjwX1bKEAZ7DsH8%3DqibV5Gs96AQmV90EkK6zIBJVj9x7otgAk9Tj6ktRAydBshtsvj'\n",
        "access_token ='1598351541844561920-x64TzE9iZ7fuE4dEFtJovK6Id63oDo'\n",
        "access_token_secret = '4pUkjZb3g82R3jnu8ngH0hDGiC1dP66kJOzFbMAnEwaI4'\n"
      ],
      "metadata": {
        "id": "Fy8wWCTgUTHg"
      },
      "execution_count": null,
      "outputs": []
    },
    {
      "cell_type": "code",
      "source": [
        "!pip install --upgrade tweepy pandas numpy plotly tqdm"
      ],
      "metadata": {
        "colab": {
          "base_uri": "https://localhost:8080/"
        },
        "id": "vjXKcRhlb8Ra",
        "outputId": "51e7784d-f2a5-4a54-c6aa-8f628727bd8b"
      },
      "execution_count": null,
      "outputs": [
        {
          "output_type": "stream",
          "name": "stdout",
          "text": [
            "Looking in indexes: https://pypi.org/simple, https://us-python.pkg.dev/colab-wheels/public/simple/\n",
            "Requirement already satisfied: tweepy in /usr/local/lib/python3.8/dist-packages (4.12.1)\n",
            "Requirement already satisfied: pandas in /usr/local/lib/python3.8/dist-packages (1.5.2)\n",
            "Requirement already satisfied: numpy in /usr/local/lib/python3.8/dist-packages (1.23.5)\n",
            "Requirement already satisfied: plotly in /usr/local/lib/python3.8/dist-packages (5.11.0)\n",
            "Requirement already satisfied: tqdm in /usr/local/lib/python3.8/dist-packages (4.64.1)\n",
            "Requirement already satisfied: requests<3,>=2.27.0 in /usr/local/lib/python3.8/dist-packages (from tweepy) (2.28.1)\n",
            "Requirement already satisfied: oauthlib<4,>=3.2.0 in /usr/local/lib/python3.8/dist-packages (from tweepy) (3.2.2)\n",
            "Requirement already satisfied: requests-oauthlib<2,>=1.2.0 in /usr/local/lib/python3.8/dist-packages (from tweepy) (1.3.1)\n",
            "Requirement already satisfied: urllib3<1.27,>=1.21.1 in /usr/local/lib/python3.8/dist-packages (from requests<3,>=2.27.0->tweepy) (1.24.3)\n",
            "Requirement already satisfied: certifi>=2017.4.17 in /usr/local/lib/python3.8/dist-packages (from requests<3,>=2.27.0->tweepy) (2022.9.24)\n",
            "Requirement already satisfied: idna<4,>=2.5 in /usr/local/lib/python3.8/dist-packages (from requests<3,>=2.27.0->tweepy) (2.10)\n",
            "Requirement already satisfied: charset-normalizer<3,>=2 in /usr/local/lib/python3.8/dist-packages (from requests<3,>=2.27.0->tweepy) (2.1.1)\n",
            "Requirement already satisfied: python-dateutil>=2.8.1 in /usr/local/lib/python3.8/dist-packages (from pandas) (2.8.2)\n",
            "Requirement already satisfied: pytz>=2020.1 in /usr/local/lib/python3.8/dist-packages (from pandas) (2022.6)\n",
            "Requirement already satisfied: six>=1.5 in /usr/local/lib/python3.8/dist-packages (from python-dateutil>=2.8.1->pandas) (1.15.0)\n",
            "Requirement already satisfied: tenacity>=6.2.0 in /usr/local/lib/python3.8/dist-packages (from plotly) (8.1.0)\n"
          ]
        }
      ]
    },
    {
      "cell_type": "code",
      "source": [
        "import tweepy\n",
        "import pandas as pd\n",
        "import numpy as np\n",
        "import time\n",
        "import glob\n",
        "import json                          \n",
        "import plotly.graph_objects as go    \n",
        "import tqdm\n",
        "from tqdm import trange\n",
        "from tqdm import tqdm\n",
        "import datetime as dt\n",
        "import requests"
      ],
      "metadata": {
        "id": "8D5dLOmbWktT"
      },
      "execution_count": null,
      "outputs": []
    },
    {
      "cell_type": "code",
      "source": [
        "client = tweepy.Client(bearer_token=bearer_token)"
      ],
      "metadata": {
        "id": "ELmbJPrOcQ4s"
      },
      "execution_count": null,
      "outputs": []
    },
    {
      "cell_type": "code",
      "source": [
        "search_url = \"https://api.twitter.com/2/tweets/search/recent\""
      ],
      "metadata": {
        "id": "BOyn17jZcolZ"
      },
      "execution_count": null,
      "outputs": []
    },
    {
      "cell_type": "code",
      "source": [
        "news_outlets = '((url:\"www.bloomberg.com\") OR (url:\"www.fortune.com\") OR (url:\"www.theguardian.com\") OR (url:\"www.npr.org\") OR (url:\"www.salon.com\") OR  (url:\"www.newsweek.com\") OR (url:\"www.politico.com\") OR (url:\"www.pbs.org\") OR (url:\"www.economist.com\") OR (url:\"www.nbc.com\") OR (url:\"www.abcnews.com\") OR (url:\"www.cbsnews.com\") OR (url:\"www.cnn.com\") OR (url:\"www.foxnews.com\") OR (url:\"www.sfchronicle.com\"))'"
      ],
      "metadata": {
        "id": "DZCAJwYjcujZ"
      },
      "execution_count": null,
      "outputs": []
    },
    {
      "cell_type": "code",
      "source": [
        "def bearer_oauth(r):\n",
        "    '''Construct an authentication header for the search service \n",
        "    '''\n",
        "    r.headers[\"Authorization\"] = f\"Bearer {bearer_token}\"\n",
        "    r.headers[\"User-Agent\"] = \"v2RecentSearchPython\"\n",
        "    return r"
      ],
      "metadata": {
        "id": "xvAtFgYwc0UB"
      },
      "execution_count": null,
      "outputs": []
    },
    {
      "cell_type": "code",
      "source": [
        "# documentation: https://developer.twitter.com/en/docs/twitter-api/tweets/search/integrate/build-a-query#build\n",
        "query_params = {'query': news_outlets + ' -is:retweet',\n",
        "           'tweet.fields': 'author_id,entities', 'max_results':100}\n"
      ],
      "metadata": {
        "id": "jcg4AjBPc5CH"
      },
      "execution_count": null,
      "outputs": []
    },
    {
      "cell_type": "code",
      "source": [
        "def connect_to_endpoint(url, params):\n",
        "    '''Send the Twitter API a request to get back some data on the query you built.\n",
        "    '''\n",
        "    # this is called a GET request\n",
        "    response = requests.get(url, auth=bearer_oauth, params=params)\n",
        "    \n",
        "    if response.status_code != 200:  # code 200 indicates OK\n",
        "        raise Exception(response.status_code, response.text)\n",
        "    return response.json()"
      ],
      "metadata": {
        "id": "GNYyk6R4c-Q4"
      },
      "execution_count": null,
      "outputs": []
    },
    {
      "cell_type": "code",
      "source": [
        "response = connect_to_endpoint(search_url, query_params)"
      ],
      "metadata": {
        "id": "LOos__c3dCWm"
      },
      "execution_count": null,
      "outputs": []
    }
  ]
}